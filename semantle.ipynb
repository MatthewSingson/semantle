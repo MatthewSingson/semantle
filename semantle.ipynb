{
 "cells": [
  {
   "cell_type": "code",
   "execution_count": 2,
   "metadata": {},
   "outputs": [],
   "source": [
    "import random\n",
    "import numpy as np"
   ]
  },
  {
   "cell_type": "code",
   "execution_count": null,
   "metadata": {},
   "outputs": [],
   "source": [
    "import zipfile as zif"
   ]
  },
  {
   "cell_type": "code",
   "execution_count": null,
   "metadata": {},
   "outputs": [],
   "source": [
    "def get_similarity(guess, target):\n",
    "    #load vector data\n",
    "    v1, v2 = vectors[guess], vectors[target]\n",
    "    output = np.dot(v1, v2)\n",
    "    return abs(round(output.item() * 100, 2))\n",
    "\n",
    "def choose_word():\n",
    "    #word_bank = listofwords\n",
    "    return random.choice(word_bank)\n",
    "\n",
    "def play_game():\n",
    "    step = 1\n",
    "    done = False\n",
    "    target_word = choose_word()\n",
    "    #show similarities of 10th, 50th and 100th closest words\n",
    "    while done is False:\n",
    "        guess = input(\"Enter your guess: \").lower().strip()\n",
    "        try:\n",
    "            s = get_similarity(guess, target_word)\n",
    "            print(f\"Step:{step} {guess} | Similarity : {s}\")\n",
    "            if guess == target_word:\n",
    "                print(\"You win!\")\n",
    "                done = True\n",
    "            else:\n",
    "                step +=1\n",
    "        except:\n",
    "            #word not in word bank\n",
    "            print(\"Word not recognized, please try again\")"
   ]
  },
  {
   "cell_type": "code",
   "execution_count": 16,
   "metadata": {
    "colab": {
     "base_uri": "https://localhost:8080/"
    },
    "id": "joNub-cDgBDL",
    "outputId": "82d75ad2-1c39-4bad-8832-44fa27ce3c2c"
   },
   "outputs": [],
   "source": [
    "# semantle\n",
    "# from semantle.data import load_word_vectors\n",
    "# import nltk\n",
    "# nltk.download('Gutenberg')\n",
    "\n",
    "from numpy.linalg import norm\n",
    "class semantle:\n",
    "    \n",
    "    # vec_class is the type of pre-trained vector to be used. \n",
    "    def __init__(self):\n",
    "        self.SEN=-2\n",
    "        self.prev = self.SEN\n",
    "        self.first_temps = {\n",
    "            1:\"synonyms\",\n",
    "            0:\"unrelated\",\n",
    "            -1:\"antonyms\"\n",
    "        }\n",
    "        self.vec = None #set this to our words= vectors\n",
    "    def choose_word(self):\n",
    "        return random.choice(self.word_bank)\n",
    "\n",
    "    def check(self,guess):\n",
    "        \n",
    "        if guess == self.w:\n",
    "                print(f\"{self.w} is correct\")\n",
    "                return True\n",
    "        try:\n",
    "            the_temp = lambda s: \"colder\" if s < self.prev else \"warmer\"\n",
    "            vec_guess = get_vec(guess)\n",
    "            sim = np.dot(norm(vec_guess),norm(self.vec_w))\n",
    "            temp = the_temp(sim) if self.prev  != self.SEN else self.first_temps[round(sim)]\n",
    "            self.prev = sim\n",
    "            print(f\"{guess} is {temp}, cosine similarity is: {sim} \")\n",
    "        except:\n",
    "            print(\"Word not recognized, please try again\")\n",
    "        return False\n",
    "\n",
    "        \n",
    "    # TODO if guess has no vec, set to 0 len for unsafe, negative of w for safe\n",
    "    # def get_w(self,id):\n",
    "    #         yield from (word for word in nltk.corpus.gutenberg.word(id))\n",
    "    # def __init__():\n",
    "    #     id =  nltk.corpus.gutenberg.fileids()\n",
    "    #     corpus =  map(self.get_w,id)\n",
    "    #     #i really fucking want to get out of college\n",
    "    #     #i fucking wanna play genshin\n",
    "    #     #there is someone cosplaying katheryne in DLSU Lag lib\n",
    "    #     #there is an event and i am here suffering this\n",
    "    #     #wait i have to do code analysis first\n",
    "    #     self.words = None\n",
    "\n",
    "    #     with open(file) as f:\n",
    "    #         words = f.read().split()\n",
    "    #         self.words = set(corpus)\n",
    "    #     if note self.words:\n",
    "    #         print('err')\n",
    "    #         return None,None\n",
    "    #     self.ans =random.choice(self.words)\n",
    "    # self.normed= lambda vec: vec/np.linalg.norm(vec)\n",
    "    # def score(self,guess):\n",
    "    #     pass\n",
    "    # def check(self,guess):\n",
    "    #     if self.ans == guess:\n",
    "    #         return True,0\n",
    "    #     return False, self.score(guess)\n",
    "    #     # do word to vec here\n",
    "\n",
    "\n"
   ]
  },
  {
   "cell_type": "code",
   "execution_count": 17,
   "metadata": {
    "id": "9AupfMDqwybw"
   },
   "outputs": [
    {
     "name": "stdin",
     "output_type": "stream",
     "text": [
      " the\n"
     ]
    },
    {
     "name": "stdout",
     "output_type": "stream",
     "text": [
      "-2\n",
      "match, cosine similarity is: 1\n"
     ]
    }
   ],
   "source": [
    "\n",
    "guess= \"\"\n",
    "game = semantle()\n",
    "correct = False\n",
    "step = 0\n",
    "while not correct :\n",
    "    print(f\"step:{step}\")\n",
    "    guess = input(\"Enter your guess: \").lower().strip()\n",
    "    correct = game.check(guess)\n",
    "    # correct,score = game.check(guess)"
   ]
  },
  {
   "cell_type": "code",
   "execution_count": null,
   "metadata": {},
   "outputs": [],
   "source": []
  }
 ],
 "metadata": {
  "colab": {
   "provenance": []
  },
  "kernelspec": {
   "display_name": "Python 3 (ipykernel)",
   "language": "python",
   "name": "python3"
  },
  "language_info": {
   "codemirror_mode": {
    "name": "ipython",
    "version": 3
   },
   "file_extension": ".py",
   "mimetype": "text/x-python",
   "name": "python",
   "nbconvert_exporter": "python",
   "pygments_lexer": "ipython3",
   "version": "3.9.4"
  }
 },
 "nbformat": 4,
 "nbformat_minor": 4
}
