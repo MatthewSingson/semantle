{
 "cells": [
  {
   "cell_type": "code",
   "execution_count": 2,
   "metadata": {},
   "outputs": [],
   "source": [
    "import random\n",
    "import numpy as np"
   ]
  },
  {
   "cell_type": "code",
   "execution_count": null,
   "metadata": {},
   "outputs": [],
   "source": []
  },
  {
   "cell_type": "code",
   "execution_count": 16,
   "metadata": {
    "colab": {
     "base_uri": "https://localhost:8080/"
    },
    "id": "joNub-cDgBDL",
    "outputId": "82d75ad2-1c39-4bad-8832-44fa27ce3c2c"
   },
   "outputs": [],
   "source": [
    "# semantle\n",
    "# from semantle.data import load_word_vectors\n",
    "# import nltk\n",
    "# nltk.download('Gutenberg')\n",
    "import zipfile as zif\n",
    "from numpy.linalg import norm\n",
    "class semantle:\n",
    "    \n",
    "    # vec_class is the type of pre-trained vector to be used. \n",
    "    def __init__(self):\n",
    "        self.SEN=-2\n",
    "        self.first_temps = {\n",
    "            1:\"synonyms\",\n",
    "            0:\"unrelated\",\n",
    "            -1:\"antonyms\"\n",
    "        }\n",
    "        pass\n",
    "        # self.cos_sim = lambda v1,v2: np.dot(norm(v1),norm(v2))\n",
    "    \n",
    "\n",
    "    def check(self,guess):\n",
    "        vec_guess = guess\n",
    "        sim = self.cos_sim(vec_guess,self.vec_w)\n",
    "        prev = self.SEN\n",
    "        print(prev)\n",
    "        flag = False\n",
    "        \n",
    "        if sim >=1:\n",
    "            temp = \"match\"\n",
    "            flag = True\n",
    "        elif prev == SEN:\n",
    "           temp = self.first_temps[round(sim)]\n",
    "        elif prev != SEN:\n",
    "            temp = \"warmer\" if sim > prev else \"colder\"\n",
    "        prev = sim\n",
    "        \n",
    "        print(f\"{temp}, cosine similarity is: {sim}\")\n",
    "        return flag\n",
    "    # TODO if guess has no vec, set to 0 len for unsafe, negative of w for safe\n",
    "    # def get_w(self,id):\n",
    "    #         yield from (word for word in nltk.corpus.gutenberg.word(id))\n",
    "    # def __init__():\n",
    "    #     id =  nltk.corpus.gutenberg.fileids()\n",
    "    #     corpus =  map(self.get_w,id)\n",
    "    #     #i really fucking want to get out of college\n",
    "    #     #i fucking wanna play genshin\n",
    "    #     #there is someone cosplaying katheryne in DLSU Lag lib\n",
    "    #     #there is an event and i am here suffering this\n",
    "    #     #wait i have to do code analysis first\n",
    "    #     self.words = None\n",
    "\n",
    "    #     with open(file) as f:\n",
    "    #         words = f.read().split()\n",
    "    #         self.words = set(corpus)\n",
    "    #     if note self.words:\n",
    "    #         print('err')\n",
    "    #         return None,None\n",
    "    #     self.ans =random.choice(self.words)\n",
    "    # self.normed= lambda vec: vec/np.linalg.norm(vec)\n",
    "    # def score(self,guess):\n",
    "    #     pass\n",
    "    # def check(self,guess):\n",
    "    #     if self.ans == guess:\n",
    "    #         return True,0\n",
    "    #     return False, self.score(guess)\n",
    "    #     # do word to vec here\n",
    "\n",
    "\n"
   ]
  },
  {
   "cell_type": "code",
   "execution_count": 17,
   "metadata": {
    "id": "9AupfMDqwybw"
   },
   "outputs": [
    {
     "name": "stdin",
     "output_type": "stream",
     "text": [
      " the\n"
     ]
    },
    {
     "name": "stdout",
     "output_type": "stream",
     "text": [
      "-2\n",
      "match, cosine similarity is: 1\n"
     ]
    }
   ],
   "source": [
    "\n",
    "guess= \"\"\n",
    "game = semantle()\n",
    "correct = False\n",
    "while not correct :\n",
    "    while not guess.isalpha():\n",
    "        guess = input().lower()\n",
    "    correct = game.check(guess)\n",
    "    # correct,score = game.check(guess)"
   ]
  },
  {
   "cell_type": "code",
   "execution_count": null,
   "metadata": {},
   "outputs": [],
   "source": []
  }
 ],
 "metadata": {
  "colab": {
   "provenance": []
  },
  "kernelspec": {
   "display_name": "Python 3 (ipykernel)",
   "language": "python",
   "name": "python3"
  },
  "language_info": {
   "codemirror_mode": {
    "name": "ipython",
    "version": 3
   },
   "file_extension": ".py",
   "mimetype": "text/x-python",
   "name": "python",
   "nbconvert_exporter": "python",
   "pygments_lexer": "ipython3",
   "version": "3.9.4"
  }
 },
 "nbformat": 4,
 "nbformat_minor": 4
}
