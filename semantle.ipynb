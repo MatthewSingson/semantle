{
  "nbformat": 4,
  "nbformat_minor": 0,
  "metadata": {
    "colab": {
      "provenance": []
    },
    "kernelspec": {
      "name": "python3",
      "display_name": "Python 3"
    },
    "language_info": {
      "name": "python"
    }
  },
  "cells": [
    {
      "cell_type": "code",
      "execution_count": null,
      "metadata": {
        "id": "joNub-cDgBDL",
        "colab": {
          "base_uri": "https://localhost:8080/"
        },
        "outputId": "82d75ad2-1c39-4bad-8832-44fa27ce3c2c"
      },
      "outputs": [
        {
          "output_type": "stream",
          "name": "stderr",
          "text": [
            "[nltk_data] Error loading Gutenberg: Package 'Gutenberg' not found in\n",
            "[nltk_data]     index\n"
          ]
        }
      ],
      "source": [
        "# semantle\n",
        "# from semantle.data import load_word_vectors\n",
        "import nltk\n",
        "import random\n",
        "nltk.download('Gutenberg')\n",
        "import np\n",
        "\n",
        "class semantle:\n",
        "    def get_w(self,id):\n",
        "            yield from (word for word in nltk.corpus.gutenberg.word(id))\n",
        "    def __init__():\n",
        "        id =  nltk.corpus.gutenberg.fileids()\n",
        "        corpus =  map(self.get_w,id)\n",
        "        #i really fucking want to get out of college\n",
        "        #i fucking wanna play genshin\n",
        "        #there is someone cosplaying katheryne in DLSU Lag lib\n",
        "        #there is an event and i am here suffering this\n",
        "        #wait i have to do code analysis first\n",
        "        self.words = None\n",
        "\n",
        "        with open(file) as f:\n",
        "            words = f.read().split()\n",
        "            self.words = set(corpus)\n",
        "        if note self.words:\n",
        "            print('err')\n",
        "            return None,None\n",
        "        self.ans =random.choice(self.words)\n",
        "    self.normed= lambda vec: vec/np.linalg.norm(vec)\n",
        "    def score(self,guess):\n",
        "        pass\n",
        "    def check(self,guess):\n",
        "        if self.ans == guess:\n",
        "            return True,0\n",
        "        return False, self.score(guess)\n",
        "        # do word to vec here\n",
        "\n",
        "\n"
      ]
    },
    {
      "cell_type": "code",
      "source": [
        "\n",
        "guess= \"\"\n",
        "game = semantle(\"file.txt\")\n",
        "while correct is false():\n",
        "    while not guess.isalpha():\n",
        "        guess = input().lower()\n",
        "    correct,score = game.check(guess)"
      ],
      "metadata": {
        "id": "9AupfMDqwybw"
      },
      "execution_count": null,
      "outputs": []
    }
  ]
}